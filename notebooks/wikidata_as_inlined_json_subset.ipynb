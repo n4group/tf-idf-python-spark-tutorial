{
 "cells": [
  {
   "cell_type": "code",
   "execution_count": 1,
   "metadata": {
    "collapsed": false
   },
   "outputs": [
    {
     "name": "stdout",
     "output_type": "stream",
     "text": [
      "start extracting\n",
      "subset ready!\n",
      "8.364059686660767 seconds\n"
     ]
    }
   ],
   "source": [
    "import pyspark\n",
    "import shutil\n",
    "import time\n",
    "\n",
    "subset_count = 1000\n",
    "\n",
    "def inline_subset(file, count=10):\n",
    "    content = file.take(count+1)\n",
    "    content[count] = content[count][:-1]+']'\n",
    "    return sc.parallelize(content).reduce(lambda a, b: a+b)\n",
    "\n",
    "print(\"start extracting\")\n",
    "start = time.time()\n",
    "\n",
    "sc = pyspark.SparkContext('local[*]')\n",
    "\n",
    "wikiFile = sc.textFile('wikidata-20170306-all.json.gz')\n",
    "subset = inline_subset(wikiFile, subset_count)\n",
    "\n",
    "with open('wikidata.json', 'w') as file:\n",
    "    file.write(subset)\n",
    "    \n",
    "#shutil.rmtree('wikidata.json')\n",
    "#sc.parallelize(subset).saveAsTextFile('wikidata.json')\n",
    "\n",
    "end = time.time()\n",
    "\n",
    "print('subset ready!')\n",
    "print(end - start, 'seconds')\n",
    "\n",
    "sc.stop()"
   ]
  },
  {
   "cell_type": "code",
   "execution_count": null,
   "metadata": {
    "collapsed": true
   },
   "outputs": [],
   "source": []
  }
 ],
 "metadata": {
  "kernelspec": {
   "display_name": "Python 3",
   "language": "python",
   "name": "python3"
  },
  "language_info": {
   "codemirror_mode": {
    "name": "ipython",
    "version": 3
   },
   "file_extension": ".py",
   "mimetype": "text/x-python",
   "name": "python",
   "nbconvert_exporter": "python",
   "pygments_lexer": "ipython3",
   "version": "3.5.2"
  }
 },
 "nbformat": 4,
 "nbformat_minor": 2
}
