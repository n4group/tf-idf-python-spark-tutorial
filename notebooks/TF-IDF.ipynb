{
 "cells": [
  {
   "cell_type": "code",
   "execution_count": 1,
   "metadata": {
    "collapsed": false,
    "deletable": true,
    "editable": true
   },
   "outputs": [
    {
     "name": "stdout",
     "output_type": "stream",
     "text": [
      "finished\n",
      "('Schottland', SparseVector(1048576, {35920: 0.6369, 40200: 0.0, 173606: 0.3185, 211440: 0.0953, 238153: 0.2859, 263483: 1.0116, 265159: 0.6369, 296409: 0.0, 388504: 1.5769, 469732: 1.0116, 599511: 1.0116, 667632: 1.2993, 702216: 0.0, 702740: 0.7885, 734443: 0.0, 777769: 0.7885, 856921: 1.2993, 865556: 1.2993, 875351: 0.0, 891534: 0.8027, 897367: 0.0953, 957654: 1.7047, 968035: 0.0, 997188: 1.2993}))\n"
     ]
    }
   ],
   "source": [
    "import pyspark\n",
    "import json\n",
    "\n",
    "sc = pyspark.SparkContext('local[*]')\n",
    "\n",
    "wikiFile = sc.textFile('wikidata-20170306-all.json.gz')\n",
    "\n",
    "subset = wikiFile \\\n",
    "  .filter(lambda x: '{' in x) \\\n",
    "  .map(lambda x: json.loads(x[:-1])) \\\n",
    "  .map(lambda x: { \\\n",
    "    'label': x.get('labels').get('de').get('value'), \\\n",
    "    'description': x.get('descriptions').get('de').get('value') \\\n",
    "  }) \\\n",
    "  .take(10)\n",
    "\n",
    "\n",
    "from pyspark.mllib.feature import HashingTF, IDF\n",
    "from pyspark.mllib.regression import LabeledPoint\n",
    "\n",
    "documents = sc.parallelize(subset) \\\n",
    "  .map(lambda x: x.get('description'))\n",
    "    \n",
    "hashingTF = HashingTF()\n",
    "tf = hashingTF.transform(documents)\n",
    "\n",
    "tf.cache()\n",
    "idf = IDF().fit(tf)\n",
    "tfidf = idf.transform(tf)\n",
    "\n",
    "labels = sc.parallelize(subset).map(lambda doc: doc['label'])\n",
    "training = labels.zip(tfidf).map(lambda x: (x[0], x[1]))\n",
    "\n",
    "print('finished')\n",
    "print(training.first())\n",
    "\n",
    "sc.stop()"
   ]
  },
  {
   "cell_type": "code",
   "execution_count": null,
   "metadata": {
    "collapsed": true,
    "deletable": true,
    "editable": true
   },
   "outputs": [],
   "source": []
  }
 ],
 "metadata": {
  "kernelspec": {
   "display_name": "Python 3",
   "language": "python",
   "name": "python3"
  },
  "language_info": {
   "codemirror_mode": {
    "name": "ipython",
    "version": 3
   },
   "file_extension": ".py",
   "mimetype": "text/x-python",
   "name": "python",
   "nbconvert_exporter": "python",
   "pygments_lexer": "ipython3",
   "version": "3.5.2"
  }
 },
 "nbformat": 4,
 "nbformat_minor": 2
}
