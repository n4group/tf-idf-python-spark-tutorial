{
 "cells": [
  {
   "cell_type": "code",
   "execution_count": 1,
   "metadata": {
    "collapsed": false,
    "deletable": true,
    "editable": true
   },
   "outputs": [
    {
     "name": "stdout",
     "output_type": "stream",
     "text": [
      "[{'label': 'Schottland', 'description': 'Landesteil im Vereinigten Königreich Großbritannien und Nordirland'}, {'label': 'Belgien', 'description': 'Staat in Westeuropa'}, {'label': 'Universum', 'description': 'Gesamtheit der Energie, des Raumes und der Materie'}, {'label': 'Triskaidekaphobie', 'description': 'abergläubische Angst vor der Zahl Dreizehn'}, {'label': 'George Washington', 'description': 'erster Präsident der Vereinigten Staaten von Amerika'}, {'label': 'Dänemark', 'description': 'Staat in Nordeuropa'}, {'label': 'Bier', 'description': 'alkohol- und kohlensäurehaltiges Getränk'}, {'label': 'Berlin', 'description': 'Hauptstadt und Land der Bundesrepublik Deutschland'}, {'label': 'Drucker', 'description': 'Peripheriegerät eines Computers'}, {'label': 'London', 'description': 'Hauptstadt des Vereinigten Königreichs'}]\n"
     ]
    }
   ],
   "source": [
    "import pyspark\n",
    "import json\n",
    "\n",
    "sc = pyspark.SparkContext('local[*]')\n",
    "\n",
    "wikiFile = sc.textFile('wikidata-20170306-all.json.gz')\n",
    "\n",
    "result = wikiFile \\\n",
    "  .filter(lambda x: '{' in x) \\\n",
    "  .map(lambda x: json.loads(x[:-1])) \\\n",
    "  .map(lambda x: { \\\n",
    "    'label': x.get('labels').get('de').get('value'), \\\n",
    "    'description': x.get('descriptions').get('de').get('value') \\\n",
    "  }) \\\n",
    "  .take(10)\n",
    "\n",
    "\n",
    "print(result)\n",
    "\n",
    "sc.stop()"
   ]
  },
  {
   "cell_type": "code",
   "execution_count": null,
   "metadata": {
    "collapsed": true
   },
   "outputs": [],
   "source": []
  }
 ],
 "metadata": {
  "kernelspec": {
   "display_name": "Python 3",
   "language": "python",
   "name": "python3"
  },
  "language_info": {
   "codemirror_mode": {
    "name": "ipython",
    "version": 3
   },
   "file_extension": ".py",
   "mimetype": "text/x-python",
   "name": "python",
   "nbconvert_exporter": "python",
   "pygments_lexer": "ipython3",
   "version": "3.5.2"
  }
 },
 "nbformat": 4,
 "nbformat_minor": 2
}
